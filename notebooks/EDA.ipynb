{
 "cells": [
  {
   "cell_type": "code",
   "execution_count": null,
   "metadata": {},
   "outputs": [],
   "source": [
    "# Visualiza filmes muito curtos (< 40 min) ou muito longos (> 240 min)\n",
    "watched[(watched['duration_min'] < 50) | (watched['duration_min'] > 240)]"
   ]
  },
  {
   "cell_type": "code",
   "execution_count": null,
   "metadata": {},
   "outputs": [],
   "source": [
    "# Análise da distribuição das minhas notas (Rating)\n",
    "sns.set(style=\"whitegrid\")\n",
    "plt.figure(figsize=(8, 5))\n",
    "sns.histplot(watched['Rating'], bins=10, kde=True)\n",
    "\n",
    "plt.title('Distribuição das suas notas no Letterboxd')\n",
    "plt.xlabel('Nota')\n",
    "plt.ylabel('Quantidade de filmes')\n",
    "plt.show()"
   ]
  },
  {
   "cell_type": "code",
   "execution_count": null,
   "metadata": {},
   "outputs": [],
   "source": [
    "# Divide os gêneros e explode para múltiplas linhas\n",
    "genre_exploded = watched.dropna(subset=['genres', 'Rating']).copy()\n",
    "genre_exploded['genres'] = genre_exploded['genres'].str.split(', ')\n",
    "genre_exploded = genre_exploded.explode('genres')\n",
    "\n",
    "# Calcula a média da nota por gênero\n",
    "genre_rating_avg = genre_exploded.groupby('genres')['Rating'].mean().sort_values(ascending=False)\n",
    "\n",
    "# Visualiza com um gráfico de barras\n",
    "plt.figure(figsize=(10, 6))\n",
    "sns.barplot(x=genre_rating_avg.values, y=genre_rating_avg.index, palette=\"viridis\")\n",
    "\n",
    "plt.title('Nota média por gênero')\n",
    "plt.xlabel('Nota média')\n",
    "plt.ylabel('Gênero')\n",
    "plt.show()"
   ]
  },
  {
   "cell_type": "code",
   "execution_count": null,
   "metadata": {},
   "outputs": [],
   "source": [
    "# Seleciona apenas colunas numéricas relevantes\n",
    "numeric_cols = ['Rating', 'duration_min', 'vote_average', 'vote_count', 'popularity']\n",
    "\n",
    "# Remove valores nulos para análise\n",
    "corr_df = watched[numeric_cols].dropna()\n",
    "\n",
    "# Calcula correlação entre variáveis\n",
    "corr_matrix = corr_df.corr()\n",
    "\n",
    "# Heatmap das correlações\n",
    "plt.figure(figsize=(8, 6))\n",
    "sns.heatmap(corr_matrix, annot=True, cmap=\"coolwarm\", fmt=\".2f\")\n",
    "\n",
    "plt.title('Correlação entre minhas notas e variáveis do TMDb')\n",
    "plt.show()"
   ]
  },
  {
   "cell_type": "markdown",
   "metadata": {},
   "source": [
    "Eu tendo a gostar de filmes bem avaliados pelo público.                 \n",
    "Eu gosto levemente mais de filmes mais longos.                          \n",
    "Filmes populares (com muitos votos) não influenciam muito minhas notas. \n",
    "Popularidade não tem quase nenhuma relação com minha nota.              \n"
   ]
  },
  {
   "cell_type": "code",
   "execution_count": null,
   "metadata": {},
   "outputs": [],
   "source": [
    "# Filtra para garantir que tenha diretor e ator\n",
    "df_filtered = watched.dropna(subset=['Rating', 'director', 'lead_actor'])\n",
    "\n",
    "# Diretores com pelo menos 2 filmes avaliados\n",
    "top_directors = (\n",
    "    df_filtered.groupby('director')\n",
    "    .filter(lambda x: len(x) >= 2)\n",
    "    .groupby('director')['Rating']\n",
    "    .mean()\n",
    "    .sort_values(ascending=False)\n",
    "    .head(10)\n",
    ")\n",
    "\n",
    "# Atores com pelo menos 2 filmes avaliados\n",
    "top_actors = (\n",
    "    df_filtered.groupby('lead_actor')\n",
    "    .filter(lambda x: len(x) >= 2)\n",
    "    .groupby('lead_actor')['Rating']\n",
    "    .mean()\n",
    "    .sort_values(ascending=False)\n",
    "    .head(10)\n",
    ")\n",
    "\n",
    "# Exibe os resultados\n",
    "print(\"🎬 Diretores favoritos:\")\n",
    "display(top_directors)\n",
    "\n",
    "print(\"\\n⭐ Atores favoritos:\")\n",
    "display(top_actors)\n"
   ]
  }
 ],
 "metadata": {
  "language_info": {
   "name": "python"
  }
 },
 "nbformat": 4,
 "nbformat_minor": 5
}
